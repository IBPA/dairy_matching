{
 "cells": [
  {
   "cell_type": "code",
   "execution_count": 14,
   "metadata": {},
   "outputs": [],
   "source": [
    "import pandas as pd\n",
    "import numpy as np\n",
    "import datetime"
   ]
  },
  {
   "cell_type": "markdown",
   "metadata": {},
   "source": [
    "### Load the NCC Data"
   ]
  },
  {
   "cell_type": "code",
   "execution_count": 15,
   "metadata": {},
   "outputs": [],
   "source": [
    "ncc = pd.read_csv('../data/NCC_2018_nutrients_per_100g_originalcolnames.txt',sep='\\t')"
   ]
  },
  {
   "cell_type": "markdown",
   "metadata": {},
   "source": [
    "Set Food ID as the index"
   ]
  },
  {
   "cell_type": "code",
   "execution_count": 16,
   "metadata": {},
   "outputs": [
    {
     "data": {
      "text/plain": [
       "True"
      ]
     },
     "execution_count": 16,
     "metadata": {},
     "output_type": "execute_result"
    }
   ],
   "source": [
    "ncc['Food ID'].is_unique"
   ]
  },
  {
   "cell_type": "code",
   "execution_count": 17,
   "metadata": {},
   "outputs": [],
   "source": [
    "ncc = ncc.set_index('Food ID')"
   ]
  },
  {
   "cell_type": "markdown",
   "metadata": {},
   "source": [
    "### Load the data from the ASA24 Recalls"
   ]
  },
  {
   "cell_type": "code",
   "execution_count": 18,
   "metadata": {},
   "outputs": [],
   "source": [
    "asa_24 = pd.read_csv('../data/training_for_GS_122118.csv')"
   ]
  },
  {
   "cell_type": "markdown",
   "metadata": {},
   "source": [
    "Set FoodCode as the index "
   ]
  },
  {
   "cell_type": "code",
   "execution_count": 19,
   "metadata": {},
   "outputs": [],
   "source": [
    "asa_24 = asa_24.set_index('FoodCode')"
   ]
  },
  {
   "cell_type": "markdown",
   "metadata": {},
   "source": [
    "### Load the file listing matching columns between the datasets"
   ]
  },
  {
   "cell_type": "code",
   "execution_count": 20,
   "metadata": {},
   "outputs": [],
   "source": [
    "matching = pd.read_csv('../data/matching_ncc_fndds_columns.txt',sep='\\t')"
   ]
  },
  {
   "cell_type": "markdown",
   "metadata": {},
   "source": [
    "Get the list of columns for each dataset"
   ]
  },
  {
   "cell_type": "code",
   "execution_count": 21,
   "metadata": {},
   "outputs": [],
   "source": [
    "ncc_cols = matching['NCC.Term'].values.tolist()\n",
    "asa_24_cols = matching['FNDDS.Term'].values.tolist()\n",
    "asa_24_cols = [val.replace(\" \",\"\") for val in asa_24_cols]"
   ]
  },
  {
   "cell_type": "markdown",
   "metadata": {},
   "source": [
    "### Calculate the pairwise correlations\n",
    "Define a function to calculate the pairwise PCC matrix between two matrices A and B"
   ]
  },
  {
   "cell_type": "code",
   "execution_count": 22,
   "metadata": {},
   "outputs": [],
   "source": [
    "def row_corr(A,B):\n",
    "    #number of columns in A or B\n",
    "    N = B.shape[1]\n",
    "\n",
    "    # Store row-wise sums of A and B, as they would be used at few places\n",
    "    sA = A.sum(1)\n",
    "    sB = B.sum(1)\n",
    "\n",
    "    # Compute the four terms in pcc matrix-wise\n",
    "    p1 = N*np.einsum('ik,jk->ij',A,B)\n",
    "    p2 = sB*sA[:,None]\n",
    "    p3 = N*((B**2).sum(1)) - (sB**2)\n",
    "    p4 = N*((A**2).sum(1)) - (sA**2)\n",
    "\n",
    "    # compute pcc as 2D array \n",
    "    pcorr = ((p1 - p2)/np.sqrt(p3*p4[:,None]))\n",
    "    return pcorr"
   ]
  },
  {
   "cell_type": "markdown",
   "metadata": {},
   "source": [
    "Get the columns provided by the `matching` file"
   ]
  },
  {
   "cell_type": "code",
   "execution_count": 10,
   "metadata": {},
   "outputs": [],
   "source": [
    "A = asa_24.loc[:,asa_24_cols].values\n",
    "B = ncc.loc[:,ncc_cols].values"
   ]
  },
  {
   "cell_type": "code",
   "execution_count": 11,
   "metadata": {
    "scrolled": true
   },
   "outputs": [
    {
     "name": "stderr",
     "output_type": "stream",
     "text": [
      "/software/anaconda3/4.5.12/lssc0-linux/lib/python3.6/site-packages/ipykernel_launcher.py:16: RuntimeWarning: divide by zero encountered in true_divide\n",
      "  app.launch_new_instance()\n",
      "/software/anaconda3/4.5.12/lssc0-linux/lib/python3.6/site-packages/ipykernel_launcher.py:16: RuntimeWarning: invalid value encountered in true_divide\n",
      "  app.launch_new_instance()\n"
     ]
    }
   ],
   "source": [
    "corr = row_corr(A,B)"
   ]
  },
  {
   "cell_type": "markdown",
   "metadata": {},
   "source": [
    "### Calculate weighted pairwise correlations"
   ]
  },
  {
   "cell_type": "markdown",
   "metadata": {},
   "source": [
    "Load the weights from the Lasso model"
   ]
  },
  {
   "cell_type": "code",
   "execution_count": 23,
   "metadata": {},
   "outputs": [],
   "source": [
    "lasso_coef = pd.read_csv('lasso_coef.csv')\n",
    "weights = lasso_coef.loc[:,'coef'].values[:-1] #omit 'year'"
   ]
  },
  {
   "cell_type": "markdown",
   "metadata": {},
   "source": [
    "Define a function to calculate weighted row-wise PCC"
   ]
  },
  {
   "cell_type": "code",
   "execution_count": 24,
   "metadata": {},
   "outputs": [],
   "source": [
    "def row_corr_weighted(A,B,weights):\n",
    "# converted to python from here: https://stackoverflow.com/questions/9460664/weighted-pearsons-correlation\n",
    "    w = weights/sum(weights)\n",
    "    \n",
    "    A = A - (A*w).sum(1)[:,None]\n",
    "    B = B - (B*w).sum(1)[:,None]\n",
    "    \n",
    "    pcorr = np.matmul(A,((B*w).T))/np.sqrt(np.matmul(((A**2)*w).sum(1)[:,None],(((B**2)*w).sum(1)[:,None]).T))\n",
    "    return pcorr"
   ]
  },
  {
   "cell_type": "code",
   "execution_count": 227,
   "metadata": {},
   "outputs": [],
   "source": [
    "# def row_corr_weighted_X(A,B,weights):\n",
    "    \n",
    "#     weights = weights /sum(weights)\n",
    "\n",
    "#     #number of columns in A or B\n",
    "#     N = B.shape[1]\n",
    "\n",
    "#     # sum of weights\n",
    "#     Uw = sum(weights)\n",
    "\n",
    "#     # row-wise weighted sums\n",
    "#     Uwx = np.dot(A,weights)\n",
    "#     Uwy = np.dot(B,weights)\n",
    "\n",
    "#     # row-wise sums\n",
    "#     Ux = A.sum(1)\n",
    "#     Uy = B.sum(1)\n",
    "\n",
    "#     # row-wise weighted sums of squares\n",
    "#     Vwx = np.dot((A**2),weights)\n",
    "#     Vwy = np.dot((B**2),weights)\n",
    "\n",
    "#     # Compute the four terms in pcc matrix-wise\n",
    "#     Exiyi = np.einsum('ik,jk->ij',A,B)\n",
    "#     p3 = Uw*Vwy - (Uwy**2)\n",
    "#     p4 = Uw*Vwx - (Uwx**2)\n",
    "\n",
    "#     pcorr = (Uw**2)*Exiyi + N*(Uwy*Uwx[:,None])/(N*np.sqrt(p3*p4[:,None]))\n",
    "\n",
    "# #     pcorr = (Uw**2)*Exiyi - Uw*((Uwx[:,None]*Uy[:,None].T) + Ux[:,None]*Uwy[:,None].T) + N*(Uwy*Uwx[:,None])/(N*np.sqrt(p3*p4[:,None]))\n",
    "# #     pcorr = (Uw**2)*Exiyi - Uw*((Uwx[:,None]*Uy) + Uwy*Ux[:,None]) + N*(Uwy*Uwx[:,None])/np.sqrt(p3*p4[:,None])\n",
    "#     return pcorr"
   ]
  },
  {
   "cell_type": "code",
   "execution_count": 25,
   "metadata": {},
   "outputs": [
    {
     "name": "stderr",
     "output_type": "stream",
     "text": [
      "/software/anaconda3/4.5.12/lssc0-linux/lib/python3.6/site-packages/ipykernel_launcher.py:8: RuntimeWarning: divide by zero encountered in true_divide\n",
      "  \n",
      "/software/anaconda3/4.5.12/lssc0-linux/lib/python3.6/site-packages/ipykernel_launcher.py:8: RuntimeWarning: invalid value encountered in true_divide\n",
      "  \n"
     ]
    }
   ],
   "source": [
    "corr_weighted = row_corr_weighted(A,B,weights)"
   ]
  },
  {
   "cell_type": "markdown",
   "metadata": {},
   "source": [
    "### Get results (unweighted)"
   ]
  },
  {
   "cell_type": "markdown",
   "metadata": {},
   "source": [
    "Get indices of the top matches from the correlation matrix"
   ]
  },
  {
   "cell_type": "code",
   "execution_count": 12,
   "metadata": {},
   "outputs": [],
   "source": [
    "TOP = 5 # set the number of matches to return\n",
    "\n",
    "indices_top = np.argsort(-corr,axis=1,)[:,:TOP]\n",
    "pcc_top = np.sort(-corr,axis=1,)[:,:TOP]"
   ]
  },
  {
   "cell_type": "markdown",
   "metadata": {},
   "source": [
    "Construct dataframe to store top results"
   ]
  },
  {
   "cell_type": "code",
   "execution_count": 13,
   "metadata": {},
   "outputs": [],
   "source": [
    "iters = [np.arange(0,asa_24.shape[0],1).tolist(),np.arange(0,TOP,1).tolist()]\n",
    "\n",
    "results_cols = asa_24.columns.values.tolist() + ['PCC'] + ncc.columns.values.tolist()\n",
    "\n",
    "mi = pd.MultiIndex.from_product(iters, names=['asa_index', 'match_index'])\n",
    "\n",
    "results_top = pd.DataFrame(index=mi,columns=results_cols)"
   ]
  },
  {
   "cell_type": "markdown",
   "metadata": {},
   "source": [
    "Copy ASA24 values to left side"
   ]
  },
  {
   "cell_type": "code",
   "execution_count": 14,
   "metadata": {},
   "outputs": [],
   "source": [
    "results_top.loc[results_top.eval('match_index==0'), asa_24.columns] = asa_24.values\n",
    "\n",
    "results_top.loc[:,ncc.columns] = ncc.iloc[indices_top.flatten(),:].values\n",
    "\n",
    "results_top.loc[:,'PCC'] = -pcc_top.flatten()"
   ]
  },
  {
   "cell_type": "markdown",
   "metadata": {},
   "source": [
    "### Save results to CSV"
   ]
  },
  {
   "cell_type": "code",
   "execution_count": 24,
   "metadata": {},
   "outputs": [],
   "source": [
    "name = 'pcc_matching_results_top_{}.tsv'.format(TOP)\n",
    "path = '../data/' + name\n",
    "results_top.to_csv(path,sep='\\t')"
   ]
  },
  {
   "cell_type": "code",
   "execution_count": 19,
   "metadata": {},
   "outputs": [],
   "source": [
    "results_top_desc_only = results_top[['Food_Description','PCC','Keylist','Food Description','Short Food Description','Food Type','Lactose (g)']]"
   ]
  },
  {
   "cell_type": "code",
   "execution_count": 25,
   "metadata": {},
   "outputs": [],
   "source": [
    "name = 'pcc_matching_results_top_{}_desc_only.tsv'.format(TOP)\n",
    "path = '../data/' + name\n",
    "results_top_desc_only.to_csv(path,sep='\\t')"
   ]
  },
  {
   "cell_type": "markdown",
   "metadata": {},
   "source": [
    "### Get results (weighted)"
   ]
  },
  {
   "cell_type": "markdown",
   "metadata": {},
   "source": [
    "Get indices of the top matches from the correlation matrix"
   ]
  },
  {
   "cell_type": "code",
   "execution_count": 26,
   "metadata": {},
   "outputs": [],
   "source": [
    "TOP = 5 # set the number of matches to return\n",
    "\n",
    "indices_top = np.argsort(-corr_weighted,axis=1,)[:,:TOP]\n",
    "pcc_top = np.sort(-corr_weighted,axis=1,)[:,:TOP]"
   ]
  },
  {
   "cell_type": "markdown",
   "metadata": {},
   "source": [
    "Construct dataframe to store top results"
   ]
  },
  {
   "cell_type": "code",
   "execution_count": 35,
   "metadata": {},
   "outputs": [],
   "source": [
    "iters = [np.arange(0,asa_24.shape[0],1).tolist(),np.arange(0,TOP,1).tolist()]\n",
    "\n",
    "results_cols = asa_24.columns.values.tolist() + ['Weighted PCC'] + ncc.columns.values.tolist()\n",
    "\n",
    "mi = pd.MultiIndex.from_product(iters, names=['asa_index', 'match_index'])\n",
    "\n",
    "results_top = pd.DataFrame(index=mi,columns=results_cols)"
   ]
  },
  {
   "cell_type": "markdown",
   "metadata": {},
   "source": [
    "Copy ASA24 values to left side"
   ]
  },
  {
   "cell_type": "code",
   "execution_count": 38,
   "metadata": {},
   "outputs": [],
   "source": [
    "results_top.loc[results_top.eval('match_index==0'), asa_24.columns] = asa_24.values\n",
    "\n",
    "results_top.loc[:,ncc.columns] = ncc.iloc[indices_top.flatten(),:].values\n",
    "\n",
    "results_top.loc[:,'Weighted PCC'] = -pcc_top.flatten()"
   ]
  },
  {
   "cell_type": "code",
   "execution_count": 39,
   "metadata": {},
   "outputs": [],
   "source": [
    "# results_top.columns.tolist()"
   ]
  },
  {
   "cell_type": "markdown",
   "metadata": {},
   "source": [
    "### Save results to CSV"
   ]
  },
  {
   "cell_type": "code",
   "execution_count": 40,
   "metadata": {},
   "outputs": [],
   "source": [
    "name = 'pcc_matching_results_top_{}_weighted.tsv'.format(TOP)\n",
    "path = '../data/' + name\n",
    "results_top.to_csv(path,sep='\\t')"
   ]
  },
  {
   "cell_type": "code",
   "execution_count": 41,
   "metadata": {},
   "outputs": [],
   "source": [
    "results_top_desc_only = results_top[['Food_Description','Weighted PCC','Keylist','Food Description','Short Food Description','Food Type','Lactose (g)']]"
   ]
  },
  {
   "cell_type": "code",
   "execution_count": 42,
   "metadata": {},
   "outputs": [],
   "source": [
    "name = 'pcc_matching_results_top_{}_weighted_desc_only.tsv'.format(TOP)\n",
    "path = '../data/' + name\n",
    "results_top_desc_only.to_csv(path,sep='\\t')"
   ]
  },
  {
   "cell_type": "markdown",
   "metadata": {},
   "source": [
    "### Load the data back in\n",
    "(Check that it was saved, further analysis, etc.)"
   ]
  },
  {
   "cell_type": "code",
   "execution_count": 43,
   "metadata": {},
   "outputs": [],
   "source": [
    "results_top_w = pd.read_csv('../data/pcc_matching_results_top_5_weighted.tsv',sep='\\t')\n",
    "results_top_desc_only_w =  pd.read_csv('../data/pcc_matching_results_top_5_weighted_desc_only.tsv',sep='\\t')"
   ]
  },
  {
   "cell_type": "code",
   "execution_count": 33,
   "metadata": {},
   "outputs": [],
   "source": [
    "results_top_desc_only =  pd.read_csv('../data/pcc_matching_results_top_5_desc_only.tsv',sep='\\t')"
   ]
  }
 ],
 "metadata": {
  "kernelspec": {
   "display_name": "Python 3",
   "language": "python",
   "name": "python3"
  },
  "language_info": {
   "codemirror_mode": {
    "name": "ipython",
    "version": 3
   },
   "file_extension": ".py",
   "mimetype": "text/x-python",
   "name": "python",
   "nbconvert_exporter": "python",
   "pygments_lexer": "ipython3",
   "version": "3.6.7"
  }
 },
 "nbformat": 4,
 "nbformat_minor": 2
}
