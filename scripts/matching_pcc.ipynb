{
 "cells": [
  {
   "cell_type": "code",
   "execution_count": 52,
   "metadata": {},
   "outputs": [],
   "source": [
    "import pandas as pd\n",
    "import numpy as np\n",
    "import datetime"
   ]
  },
  {
   "cell_type": "markdown",
   "metadata": {},
   "source": [
    "### Load the NCC Data"
   ]
  },
  {
   "cell_type": "code",
   "execution_count": 2,
   "metadata": {},
   "outputs": [],
   "source": [
    "ncc = pd.read_csv('../data/NCC_2018_nutrients_per_100g_originalcolnames.txt',sep='\\t')"
   ]
  },
  {
   "cell_type": "markdown",
   "metadata": {},
   "source": [
    "Set Food ID as the index"
   ]
  },
  {
   "cell_type": "code",
   "execution_count": 3,
   "metadata": {},
   "outputs": [
    {
     "data": {
      "text/plain": [
       "True"
      ]
     },
     "execution_count": 3,
     "metadata": {},
     "output_type": "execute_result"
    }
   ],
   "source": [
    "ncc['Food ID'].is_unique"
   ]
  },
  {
   "cell_type": "code",
   "execution_count": 4,
   "metadata": {},
   "outputs": [],
   "source": [
    "ncc = ncc.set_index('Food ID')"
   ]
  },
  {
   "cell_type": "markdown",
   "metadata": {},
   "source": [
    "### Load the data from the ASA24 Recalls"
   ]
  },
  {
   "cell_type": "code",
   "execution_count": 5,
   "metadata": {},
   "outputs": [],
   "source": [
    "asa_24 = pd.read_csv('../data/training_for_GS_122118.csv')"
   ]
  },
  {
   "cell_type": "markdown",
   "metadata": {},
   "source": [
    "Set FoodCode as the index "
   ]
  },
  {
   "cell_type": "code",
   "execution_count": 6,
   "metadata": {},
   "outputs": [],
   "source": [
    "asa_24 = asa_24.set_index('FoodCode')"
   ]
  },
  {
   "cell_type": "markdown",
   "metadata": {},
   "source": [
    "### Load the file listing matching columns between the datasets"
   ]
  },
  {
   "cell_type": "code",
   "execution_count": 7,
   "metadata": {},
   "outputs": [],
   "source": [
    "matching = pd.read_csv('../data/matching_ncc_fndds_columns.txt',sep='\\t')"
   ]
  },
  {
   "cell_type": "markdown",
   "metadata": {},
   "source": [
    "Get the list of columns for each dataset"
   ]
  },
  {
   "cell_type": "code",
   "execution_count": 8,
   "metadata": {},
   "outputs": [],
   "source": [
    "ncc_cols = matching['NCC.Term'].values.tolist()\n",
    "asa_24_cols = matching['FNDDS.Term'].values.tolist()\n",
    "asa_24_cols = [val.replace(\" \",\"\") for val in asa_24_cols]"
   ]
  },
  {
   "cell_type": "markdown",
   "metadata": {},
   "source": [
    "### Calculate the pairwise correlations\n",
    "Define a function to calculate the pairwise PCC matrix between two matrices A and B"
   ]
  },
  {
   "cell_type": "code",
   "execution_count": 9,
   "metadata": {},
   "outputs": [],
   "source": [
    "def row_corr(A,B):\n",
    "    #number of columns in A or B\n",
    "    N = B.shape[1]\n",
    "\n",
    "    # Store row-wise sums of A and B, as they would be used at few places\n",
    "    sA = A.sum(1)\n",
    "    sB = B.sum(1)\n",
    "\n",
    "    # Compute the four terms in pcc matrix-wise\n",
    "    p1 = N*np.einsum('ik,jk->ij',A,B)\n",
    "    p2 = sB*sA[:,None]\n",
    "    p3 = N*((B**2).sum(1)) - (sB**2)\n",
    "    p4 = N*((A**2).sum(1)) - (sA**2)\n",
    "\n",
    "    # compute pcc as 2D array \n",
    "    pcorr = ((p1 - p2)/np.sqrt(p3*p4[:,None]))\n",
    "    return pcorr"
   ]
  },
  {
   "cell_type": "markdown",
   "metadata": {},
   "source": [
    "Get the columns provided by the `matching` file"
   ]
  },
  {
   "cell_type": "code",
   "execution_count": 10,
   "metadata": {},
   "outputs": [],
   "source": [
    "A = asa_24.loc[:,asa_24_cols].values\n",
    "B = ncc.loc[:,ncc_cols].values"
   ]
  },
  {
   "cell_type": "code",
   "execution_count": 11,
   "metadata": {},
   "outputs": [
    {
     "name": "stderr",
     "output_type": "stream",
     "text": [
      "/software/anaconda3/4.5.12/lssc0-linux/lib/python3.6/site-packages/ipykernel_launcher.py:16: RuntimeWarning: divide by zero encountered in true_divide\n",
      "  app.launch_new_instance()\n",
      "/software/anaconda3/4.5.12/lssc0-linux/lib/python3.6/site-packages/ipykernel_launcher.py:16: RuntimeWarning: invalid value encountered in true_divide\n",
      "  app.launch_new_instance()\n"
     ]
    }
   ],
   "source": [
    "corr = row_corr(A,B)"
   ]
  },
  {
   "cell_type": "markdown",
   "metadata": {},
   "source": [
    "### Get results"
   ]
  },
  {
   "cell_type": "markdown",
   "metadata": {},
   "source": [
    "Get indices of the top matches from the correlation matrix"
   ]
  },
  {
   "cell_type": "code",
   "execution_count": 46,
   "metadata": {},
   "outputs": [],
   "source": [
    "TOP = 5 # set the number of matches to return\n",
    "\n",
    "indices_top = np.argsort(-corr,axis=1,)[:,:TOP]\n",
    "pcc_top = np.sort(-corr,axis=1,)[:,:TOP]"
   ]
  },
  {
   "cell_type": "code",
   "execution_count": 45,
   "metadata": {},
   "outputs": [
    {
     "data": {
      "text/plain": [
       "array([[11197, 11213,  5474, ..., 13351,  5485,  5491],\n",
       "       [16436, 11246, 11314, ..., 13347,  9773, 16046],\n",
       "       [11198, 11245, 11312, ..., 13350, 10583, 13444],\n",
       "       [11195,  8027, 11309, ..., 13357, 10580, 15110],\n",
       "       [ 7102,  6772, 11311, ...,  9867,  5657,  4406]])"
      ]
     },
     "execution_count": 45,
     "metadata": {},
     "output_type": "execute_result"
    }
   ],
   "source": [
    "indices_top.transpose()"
   ]
  },
  {
   "cell_type": "markdown",
   "metadata": {},
   "source": [
    "Construct dataframe to store top results"
   ]
  },
  {
   "cell_type": "code",
   "execution_count": 13,
   "metadata": {},
   "outputs": [],
   "source": [
    "iters = [np.arange(0,asa_24.shape[0],1).tolist(),np.arange(0,TOP,1).tolist()]\n",
    "\n",
    "results_cols = asa_24.columns.values.tolist() + ['PCC'] + ncc.columns.values.tolist()\n",
    "\n",
    "mi = pd.MultiIndex.from_product(iters, names=['asa_index', 'match_index'])\n",
    "\n",
    "results_top = pd.DataFrame(index=mi,columns=results_cols)"
   ]
  },
  {
   "cell_type": "markdown",
   "metadata": {},
   "source": [
    "Copy ASA24 values to left side"
   ]
  },
  {
   "cell_type": "code",
   "execution_count": 58,
   "metadata": {},
   "outputs": [],
   "source": [
    "results_top.loc[results_top.eval('match_index==0'), asa_24.columns] = asa_24.values\n",
    "\n",
    "results_top.loc[:,ncc.columns] = ncc.iloc[indices_top.flatten(),:].values\n",
    "\n",
    "results_top.loc[:,'PCC'] = -pcc_top.flatten()"
   ]
  },
  {
   "cell_type": "markdown",
   "metadata": {},
   "source": [
    "### Save results to CSV"
   ]
  },
  {
   "cell_type": "code",
   "execution_count": 60,
   "metadata": {},
   "outputs": [],
   "source": [
    "name = 'pcc_matching_results_top_{}'.format(TOP)\n",
    "path = '../data/' + name\n",
    "results_top.to_csv(path)"
   ]
  },
  {
   "cell_type": "code",
   "execution_count": 75,
   "metadata": {},
   "outputs": [],
   "source": [
    "results_top_desc_only = results_top[['Food_Description','PCC','Keylist','Food Description','Short Food Description']]"
   ]
  },
  {
   "cell_type": "code",
   "execution_count": 77,
   "metadata": {},
   "outputs": [],
   "source": [
    "name = 'pcc_matching_results_top_{}_desc_only'.format(TOP)\n",
    "path = '../data/' + name\n",
    "results_top_desc_only.to_csv(path)"
   ]
  }
 ],
 "metadata": {
  "kernelspec": {
   "display_name": "Python 3",
   "language": "python",
   "name": "python3"
  },
  "language_info": {
   "codemirror_mode": {
    "name": "ipython",
    "version": 3
   },
   "file_extension": ".py",
   "mimetype": "text/x-python",
   "name": "python",
   "nbconvert_exporter": "python",
   "pygments_lexer": "ipython3",
   "version": "3.6.7"
  }
 },
 "nbformat": 4,
 "nbformat_minor": 2
}
